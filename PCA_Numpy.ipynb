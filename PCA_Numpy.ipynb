{
  "nbformat": 4,
  "nbformat_minor": 0,
  "metadata": {
    "colab": {
      "provenance": []
    },
    "kernelspec": {
      "name": "python3",
      "display_name": "Python 3"
    },
    "language_info": {
      "name": "python"
    }
  },
  "cells": [
    {
      "cell_type": "code",
      "execution_count": 24,
      "metadata": {
        "id": "bWfw8F5xK0Z9"
      },
      "outputs": [],
      "source": [
        "import numpy as np\n",
        "\n",
        "def PCA(X, k):\n",
        "\n",
        "  # Standardize the data\n",
        "  X_standard = (X - np.mean(X,axis=0)) / np.std(X,axis=0)\n",
        "\n",
        "  # Compute the covariance matrix\n",
        "  cov_matrix = np.cov(X_standard, rowvar=False)\n",
        "\n",
        "  # Compute the eigenvalues & eigenvectors\n",
        "  eigenvalues, eigenvectors = np.linalg.eig(cov_matrix)\n",
        "\n",
        "  # Sort the eigenvalues and eigenvectors in descending order of eigenvalues\n",
        "  idx = eigenvalues.argsort()[::-1]\n",
        "  eigenvalues = eigenvalues[idx]\n",
        "  eigenvectors = eigenvectors[:,idx]\n",
        "  \n",
        "  # Took the top k eigenvectors\n",
        "  eigenvectors = eigenvectors[:,:k]\n",
        "\n",
        "  # Transform the data by multiplying the standardized data by our top k eigenvectors\n",
        "  X_pca = np.matmul(X_standard, eigenvectors)\n",
        "\n",
        "  # Return eigenvectors, eigenvalues, transformed data\n",
        "  return eigenvectors.T, eigenvalues[:k], X_pca"
      ]
    },
    {
      "cell_type": "code",
      "source": [
        "data = np.array([[2,6,3,1],[3,2,1,7],[3,4,3,2],[4,2,1,5],[1,2,8,5]])\n",
        "PCA(data,2)"
      ],
      "metadata": {
        "colab": {
          "base_uri": "https://localhost:8080/"
        },
        "id": "EXYS_b4MVEOC",
        "outputId": "6c8c21dc-6d1e-4389-87a3-1a5db9998a5c"
      },
      "execution_count": 25,
      "outputs": [
        {
          "output_type": "execute_result",
          "data": {
            "text/plain": [
              "(array([[ 0.51936987, -0.50375745, -0.43631032,  0.53489875],\n",
              "        [-0.46975445, -0.5022783 ,  0.57076007,  0.44864263]]),\n",
              " array([2.65096625, 2.12315398]),\n",
              " array([[-1.88551614, -1.26150583],\n",
              "        [ 1.68874322,  0.31652747],\n",
              "        [-0.50238851, -0.88951369],\n",
              "        [ 1.70973376, -0.55365747],\n",
              "        [-1.01057233,  2.38814952]]))"
            ]
          },
          "metadata": {},
          "execution_count": 25
        }
      ]
    },
    {
      "cell_type": "code",
      "source": [
        "from sklearn.decomposition import PCA\n",
        "data_standard = (data - np.mean(data,axis=0)) / np.std(data, axis=0)\n",
        "pca = PCA(n_components=2)\n",
        "pca.fit(data_standard)\n",
        "\n",
        "print(\"Eigenvectors:\\n\", pca.components_)\n",
        "print(\"Eigenvalues:\\n\", pca.explained_variance_)\n",
        "print(\"Transformed Data:\\n\", pca.transform(data_standard))\n",
        "\n",
        "print(\"EVR:\\n\", pca.explained_variance_ratio_)"
      ],
      "metadata": {
        "colab": {
          "base_uri": "https://localhost:8080/"
        },
        "id": "S__YoYA0VQk9",
        "outputId": "f0e7a194-c1af-48e4-98cd-dcad6266edfa"
      },
      "execution_count": 26,
      "outputs": [
        {
          "output_type": "stream",
          "name": "stdout",
          "text": [
            "Eigenvectors:\n",
            " [[-0.51936987  0.50375745  0.43631032 -0.53489875]\n",
            " [-0.46975445 -0.5022783   0.57076007  0.44864263]]\n",
            "Eigenvalues:\n",
            " [2.65096625 2.12315398]\n",
            "Transformed Data:\n",
            " [[ 1.88551614 -1.26150583]\n",
            " [-1.68874322  0.31652747]\n",
            " [ 0.50238851 -0.88951369]\n",
            " [-1.70973376 -0.55365747]\n",
            " [ 1.01057233  2.38814952]]\n",
            "EVR:\n",
            " [0.53019325 0.4246308 ]\n"
          ]
        }
      ]
    },
    {
      "cell_type": "code",
      "source": [],
      "metadata": {
        "id": "RpdS1vhhVqyx"
      },
      "execution_count": null,
      "outputs": []
    }
  ]
}